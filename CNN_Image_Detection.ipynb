{
  "cells": [
    {
      "cell_type": "code",
      "execution_count": null,
      "metadata": {
        "id": "PeozigfFQ850",
        "trusted": true
      },
      "outputs": [],
      "source": [
        "import os\n",
        "from PIL import Image\n",
        "import matplotlib.pyplot as plt\n",
        "\n",
        "import torch\n",
        "import torchvision\n",
        "from torch.utils.data import DataLoader, Dataset, random_split\n",
        "import torchvision.transforms as transforms\n",
        "\n",
        "#For converting the dataset to torchvision dataset format\n",
        "class VowelConsonantDataset(Dataset):\n",
        "    def __init__(self, file_path,train=True,transform=None):\n",
        "        self.transform = transform\n",
        "        self.file_path=file_path\n",
        "        self.train=train\n",
        "        self.file_names=[file for _,_,files in os.walk(self.file_path) for file in files]\n",
        "        self.len = len(self.file_names)\n",
        "        if self.train:\n",
        "            self.classes_mapping=self.get_classes()\n",
        "    def __len__(self):\n",
        "        return len(self.file_names)\n",
        "\n",
        "    def __getitem__(self, index):\n",
        "        file_name=self.file_names[index]\n",
        "        image_data=self.pil_loader(self.file_path+\"/\"+file_name)\n",
        "        if self.transform:\n",
        "            image_data = self.transform(image_data)\n",
        "        if self.train:\n",
        "            file_name_splitted=file_name.split(\"_\")\n",
        "            Y1 = self.classes_mapping[file_name_splitted[0]]\n",
        "            Y2 = self.classes_mapping[file_name_splitted[1]]\n",
        "            z1,z2=torch.zeros(10),torch.zeros(10)\n",
        "            z1[Y1-10],z2[Y2]=1,1\n",
        "            label=torch.stack([z1,z2])\n",
        "\n",
        "            return image_data, label\n",
        "\n",
        "        else:\n",
        "            return image_data, file_name\n",
        "\n",
        "    def pil_loader(self,path):\n",
        "        with open(path, 'rb') as f:\n",
        "            img = Image.open(f)\n",
        "            return img.convert('RGB')\n",
        "\n",
        "\n",
        "    def get_classes(self):\n",
        "        classes=[]\n",
        "        for name in self.file_names:\n",
        "            name_splitted=name.split(\"_\")\n",
        "            classes.extend([name_splitted[0],name_splitted[1]])\n",
        "        classes=list(set(classes))\n",
        "        classes_mapping={}\n",
        "        for i,cl in enumerate(sorted(classes)):\n",
        "            classes_mapping[cl]=i\n",
        "        return classes_mapping\n"
      ]
    },
    {
      "cell_type": "code",
      "execution_count": null,
      "metadata": {
        "id": "rJJ_MrEVQ_eX",
        "trusted": true
      },
      "outputs": [],
      "source": [
        "import torch\n",
        "import torch.nn as nn\n",
        "import torch.nn.functional as F\n",
        "import torch.optim as optim\n",
        "\n",
        "import torchvision\n",
        "import matplotlib.pyplot as plt\n",
        "from torchvision import datasets\n",
        "\n",
        "import torchvision.transforms as transforms\n",
        "\n",
        "import numpy as np\n",
        "import pandas as pd\n",
        "\n",
        "train_on_gpu = torch.cuda.is_available()"
      ]
    },
    {
      "cell_type": "code",
      "execution_count": null,
      "metadata": {},
      "outputs": [],
      "source": [
        "import torch\n",
        "print(torch.cuda.is_available())         # Should be True\n",
        "print(torch.cuda.device_count())         # Should be > 0\n",
        "print(torch.cuda.current_device())       # Should not throw\n",
        "print(torch.cuda.get_device_name(0))     # Should print your GPU\n"
      ]
    },
    {
      "cell_type": "code",
      "execution_count": null,
      "metadata": {
        "id": "S-BX7SIgS_bU",
        "trusted": true
      },
      "outputs": [],
      "source": [
        "transform = transforms.Compose([\n",
        "    transforms.ToTensor()])"
      ]
    },
    {
      "cell_type": "code",
      "execution_count": null,
      "metadata": {},
      "outputs": [],
      "source": [
        "class Noise:\n",
        "    def __init__(self, mean=0, std=0.05, p=0.5):\n",
        "        self.mean = mean\n",
        "        self.std = std\n",
        "        self.p = p\n",
        "    \n",
        "    def __call__(self, tensor):\n",
        "        if torch.rand(1) < self.p:\n",
        "            noise = torch.randn_like(tensor) * self.std + self.mean\n",
        "            return torch.clamp(tensor + noise, 0, 1)\n",
        "        return tensor\n"
      ]
    },
    {
      "cell_type": "code",
      "execution_count": null,
      "metadata": {},
      "outputs": [],
      "source": [
        "train_transform = transforms.Compose([\n",
        "    transforms.ToTensor(),\n",
        "    Noise(std=0.12, p=0.9),\n",
        "    transforms.ColorJitter(brightness=0.5, contrast=0.5),\n",
        "    transforms.RandomApply([\n",
        "        transforms.GaussianBlur(kernel_size=5, sigma=(0.3, 1.2))\n",
        "    ], p=0.6),\n",
        "    transforms.RandomApply([\n",
        "        transforms.RandomRotation(degrees=3)  # Very small rotation for letters\n",
        "    ], p=0.4),\n",
        "    transforms.RandomApply([\n",
        "        transforms.RandomErasing(p=1.0, scale=(0.02, 0.1), ratio=(0.3, 3.3))\n",
        "    ], p=0.3),\n",
        "    # transforms.Normalize(mean=[0.485, 0.456, 0.406], std=[0.229, 0.224, 0.225])\n",
        "])\n",
        "\n",
        "val_transform = transforms.Compose([\n",
        "    transforms.ToTensor(),\n",
        "    # transforms.Normalize(mean=[0.485, 0.456, 0.406], std=[0.229, 0.224, 0.225])\n",
        "])"
      ]
    },
    {
      "cell_type": "code",
      "execution_count": null,
      "metadata": {
        "id": "X2cOje6hS_yA",
        "trusted": true
      },
      "outputs": [],
      "source": [
        "full_data = VowelConsonantDataset(\"/home/sampadram/Sampadram/Others/DL/Contests_Capstone/train\", train=True, transform=None)\n",
        "\n",
        "train_size = int(0.9 * len(full_data))\n",
        "test_size = len(full_data) - train_size\n",
        "train_data, validation_data = random_split(full_data, [train_size, test_size])\n",
        "\n",
        "train_data.dataset.transform = train_transform\n",
        "validation_data.dataset.transform = val_transform\n",
        "\n",
        "train_loader = torch.utils.data.DataLoader(train_data, batch_size=60, shuffle=True)\n",
        "validation_loader = torch.utils.data.DataLoader(validation_data, batch_size=60, shuffle=False)\n"
      ]
    },
    {
      "cell_type": "code",
      "execution_count": null,
      "metadata": {
        "id": "Uzv8q9j63A_L",
        "trusted": true
      },
      "outputs": [],
      "source": [
        "test_data = VowelConsonantDataset(\"/home/sampadram/Sampadram/Others/DL/Contests_Capstone/test\",train=False,transform=transform)\n",
        "test_loader = torch.utils.data.DataLoader(test_data, batch_size=60,shuffle=False)"
      ]
    },
    {
      "cell_type": "markdown",
      "metadata": {
        "id": "oYyT4hqORJDM"
      },
      "source": [
        "# A look at the data"
      ]
    },
    {
      "cell_type": "code",
      "execution_count": null,
      "metadata": {
        "colab": {
          "base_uri": "https://localhost:8080/"
        },
        "id": "TtbahYc0RLdr",
        "outputId": "54d6bb2c-2db8-4243-e79b-c760b6c951ca"
      },
      "outputs": [],
      "source": [
        "data_iter = iter(train_loader)\n",
        "images, labels = next(data_iter)\n",
        "\n",
        "print(images.shape)\n",
        "print(images[1].shape)\n",
        "print(labels.shape)\n",
        "print(labels[1])"
      ]
    },
    {
      "cell_type": "code",
      "execution_count": null,
      "metadata": {
        "id": "ZaDS9eQmRd69"
      },
      "outputs": [],
      "source": [
        "def imgshow(img, title):\n",
        "  npimg = img.numpy()\n",
        "  # plt.figure(figsize = (60, 1))\n",
        "  plt.axis('off')\n",
        "  plt.imshow(np.transpose(npimg, (1, 2, 0)))\n",
        "  plt.title(title)\n",
        "  plt.show()"
      ]
    },
    {
      "cell_type": "code",
      "execution_count": null,
      "metadata": {
        "id": "o4cRjKucSRPr"
      },
      "outputs": [],
      "source": [
        "def show_batch_images(dataloader):\n",
        "    images, labels = next(iter(dataloader))\n",
        "    img = torchvision.utils.make_grid(images)\n",
        "    imgshow(img, title=[_])\n"
      ]
    },
    {
      "cell_type": "code",
      "execution_count": null,
      "metadata": {
        "colab": {
          "base_uri": "https://localhost:8080/",
          "height": 428
        },
        "id": "ZYHqdQjlSx33",
        "outputId": "dfffc870-32ee-4fb2-e5f8-fc532cd2a032"
      },
      "outputs": [],
      "source": [
        "show_batch_images(train_loader)"
      ]
    },
    {
      "cell_type": "markdown",
      "metadata": {
        "id": "BmeJP9LITNGe"
      },
      "source": [
        "# Creating the CNN architecture -  A start, Single Convolutional layer"
      ]
    },
    {
      "cell_type": "code",
      "execution_count": null,
      "metadata": {
        "id": "dMjQzzPHS4Mv"
      },
      "outputs": [],
      "source": [
        "import torch.nn as nn"
      ]
    },
    {
      "cell_type": "code",
      "execution_count": null,
      "metadata": {
        "id": "14NALQIPTipf"
      },
      "outputs": [],
      "source": [
        "class SingleLayer(nn.Module):\n",
        "  def __init__(self):\n",
        "    super(SingleLayer, self).__init__()\n",
        "    self.conv1 = nn.Conv2d(3, 32, 3, padding=(1, 1), stride= (2, 2))\n",
        "\n",
        "  def forward(self, x):\n",
        "    x = self.conv1(x)\n",
        "    return x"
      ]
    },
    {
      "cell_type": "code",
      "execution_count": null,
      "metadata": {
        "id": "PhcYBS4IUWz5"
      },
      "outputs": [],
      "source": [
        "net = SingleLayer()"
      ]
    },
    {
      "cell_type": "code",
      "execution_count": null,
      "metadata": {
        "id": "j3XSksvCUaea"
      },
      "outputs": [],
      "source": [
        "out = net(images)"
      ]
    },
    {
      "cell_type": "code",
      "execution_count": null,
      "metadata": {
        "colab": {
          "base_uri": "https://localhost:8080/",
          "height": 430
        },
        "id": "Wsgh1QXWUlo_",
        "outputId": "27c1a9b6-ad64-473e-e3fa-4503e7a0fd02"
      },
      "outputs": [],
      "source": [
        "plt.imshow(out[0, 0, :, :].detach().numpy())\n",
        "plt.show()"
      ]
    },
    {
      "cell_type": "markdown",
      "metadata": {
        "id": "Q6V6dtZyUxg4"
      },
      "source": [
        "# Deep Convolutional Layer"
      ]
    },
    {
      "cell_type": "code",
      "execution_count": null,
      "metadata": {
        "id": "AONYVHJQUxPw"
      },
      "outputs": [],
      "source": [
        "class DeepCNN(nn.Module):\n",
        "  def __init__(self):\n",
        "    super(DeepCNN, self).__init__()\n",
        "    self.cnn_model = nn.Sequential(\n",
        "        nn.Conv2d(3, 32, 5, padding=(0, 0), stride=(1, 1)), # (N, 3, 64, 64) --> (N, 32, 60, 60)\\\n",
        "        nn.ReLU(),\n",
        "        nn.AvgPool2d(2, stride=2), # (N, 32, 60, 60) --> (N, 32, 30, 30)\n",
        "        nn.Conv2d(32, 32, 2, padding=(0, 0), stride=(2, 2)), # (N, 32, 30, 30) --> (N, 32, 15, 15)\n",
        "        nn.ReLU(),\n",
        "        nn.AvgPool2d(2, stride=2) # (N, 32, 15, 15) --> (N, 32, 7, 7)\n",
        "    )\n",
        "    self.ffnn1 = nn.Sequential(\n",
        "        nn.Linear(1568, 512),\n",
        "        nn.ReLU(),\n",
        "        nn.Dropout(p=0.5), # Added Dropout\n",
        "        nn.Linear(512, 64),\n",
        "        nn.ReLU(),\n",
        "        nn.Dropout(p=0.5), # Added Dropout\n",
        "        nn.Linear(64, 10)\n",
        "    )\n",
        "    self.ffnn2 = nn.Sequential(\n",
        "        nn.Linear(1568, 512),\n",
        "        nn.ReLU(),\n",
        "        nn.Dropout(p=0.5), # Added Dropout\n",
        "        nn.Linear(512, 64),\n",
        "        nn.ReLU(),\n",
        "        nn.Dropout(p=0.5), # Added Dropout\n",
        "        nn.Linear(64, 10)\n",
        "    )\n",
        "\n",
        "  def forward(self, x):\n",
        "    x = self.cnn_model(x)\n",
        "    x = x.view(x.size(0), -1)\n",
        "    x1 = self.ffnn1(x)\n",
        "    x2 = self.ffnn2(x)\n",
        "    x = torch.stack([x1, x2], dim=1)\n",
        "    return x"
      ]
    },
    {
      "cell_type": "code",
      "execution_count": null,
      "metadata": {
        "id": "7WAs3F_3WE9K"
      },
      "outputs": [],
      "source": [
        "dnet = DeepCNN()"
      ]
    },
    {
      "cell_type": "code",
      "execution_count": null,
      "metadata": {
        "colab": {
          "base_uri": "https://localhost:8080/"
        },
        "id": "iUwm-74CWnLB",
        "outputId": "d6fe7529-4db3-4713-d2f9-dfa60f5a2784"
      },
      "outputs": [],
      "source": [
        "out = dnet(images)\n",
        "print(out.shape)"
      ]
    },
    {
      "cell_type": "code",
      "execution_count": null,
      "metadata": {
        "id": "FnSnCb1oWr1J"
      },
      "outputs": [],
      "source": [
        "# plt.imshow(out[0, 0, :, :].detach().numpy())\n",
        "# plt.show()"
      ]
    },
    {
      "cell_type": "code",
      "execution_count": null,
      "metadata": {
        "colab": {
          "base_uri": "https://localhost:8080/"
        },
        "id": "fs6UcovnePKD",
        "outputId": "45fbac81-013f-4d3b-ba16-f0ae78e37d3f"
      },
      "outputs": [],
      "source": [
        "print(out)"
      ]
    },
    {
      "cell_type": "code",
      "execution_count": null,
      "metadata": {
        "colab": {
          "base_uri": "https://localhost:8080/"
        },
        "id": "fZCdoq3MeQK2",
        "outputId": "8b714892-d058-489e-f524-3a3a51d94aa7"
      },
      "outputs": [],
      "source": [
        "print(out.shape)"
      ]
    },
    {
      "cell_type": "code",
      "execution_count": null,
      "metadata": {
        "id": "nEci1SsreTao"
      },
      "outputs": [],
      "source": [
        "predicted = torch.argmax(out, dim=2)\n",
        "true_labels = torch.argmax(labels, dim=2)"
      ]
    },
    {
      "cell_type": "code",
      "execution_count": null,
      "metadata": {
        "colab": {
          "base_uri": "https://localhost:8080/"
        },
        "id": "9ETS6SNxewdY",
        "outputId": "064da5a4-5ccf-41b4-9c28-55a621a6778b"
      },
      "outputs": [],
      "source": [
        "print(predicted.shape)\n",
        "print(true_labels.shape)"
      ]
    },
    {
      "cell_type": "code",
      "execution_count": null,
      "metadata": {
        "colab": {
          "base_uri": "https://localhost:8080/"
        },
        "id": "SFHKyNlMeyOr",
        "outputId": "4462c2d8-7746-4818-e418-05f069a9c84c"
      },
      "outputs": [],
      "source": [
        "correct = 0\n",
        "total = 0\n",
        "for i in range(out.shape[0]):\n",
        "  if true_labels[i][0] == predicted[i][0] and true_labels[i][1] == predicted[i][1]:\n",
        "    correct += 1\n",
        "  total += 1\n",
        "print(correct/total)"
      ]
    },
    {
      "cell_type": "code",
      "execution_count": null,
      "metadata": {
        "id": "CN6wutP5fIut"
      },
      "outputs": [],
      "source": [
        "def evaluation(predicted, true_labels):\n",
        "  correct = 0\n",
        "  total = 0\n",
        "  # Iterate through each sample in the batch\n",
        "  for i in range(predicted.shape[0]):\n",
        "    # Check if both vowel and consonant predictions are correct\n",
        "    if true_labels[i][0] == predicted[i][0] and true_labels[i][1] == predicted[i][1]:\n",
        "      correct += 1\n",
        "    total += 1\n",
        "  return correct/total"
      ]
    },
    {
      "cell_type": "code",
      "execution_count": null,
      "metadata": {
        "colab": {
          "base_uri": "https://localhost:8080/"
        },
        "id": "_4T1ngnYf0M3",
        "outputId": "41bae625-532d-4967-9869-3c19185d8258"
      },
      "outputs": [],
      "source": [
        "acc = evaluation(predicted, true_labels)\n",
        "print(acc)"
      ]
    },
    {
      "cell_type": "markdown",
      "metadata": {
        "id": "YIg73ZxxgAX0"
      },
      "source": [
        "# Training"
      ]
    },
    {
      "cell_type": "code",
      "execution_count": null,
      "metadata": {
        "id": "BudYPBk_gxuz"
      },
      "outputs": [],
      "source": [
        "from tqdm.notebook import tqdm"
      ]
    },
    {
      "cell_type": "code",
      "execution_count": null,
      "metadata": {
        "colab": {
          "base_uri": "https://localhost:8080/"
        },
        "id": "Rbji8DvejMOI",
        "outputId": "c0dcbb8f-7f1a-4777-86a2-b4b2bbb0c5ad"
      },
      "outputs": [],
      "source": [
        "device = torch.device(\"cuda:0\" if torch.cuda.is_available() else \"cpu\")\n",
        "print(device)"
      ]
    },
    {
      "cell_type": "code",
      "execution_count": null,
      "metadata": {
        "colab": {
          "base_uri": "https://localhost:8080/"
        },
        "id": "w2KOgQV0jfVm",
        "outputId": "56b821a5-a82c-40e0-9500-8aa62cadd30b"
      },
      "outputs": [],
      "source": [
        "dnet.to(device)"
      ]
    },
    {
      "cell_type": "code",
      "execution_count": null,
      "metadata": {
        "id": "P2FgxONMhlvN"
      },
      "outputs": [],
      "source": [
        "import torch.optim as optim\n",
        "loss_fn = nn.CrossEntropyLoss()\n",
        "opt = optim.Adam(dnet.parameters(), lr=0.05, weight_decay=1e-5) # Added weight_decay"
      ]
    },
    {
      "cell_type": "code",
      "execution_count": null,
      "metadata": {
        "id": "iUEmS4kuqL4Q"
      },
      "outputs": [],
      "source": [
        "def evaluate_full_dataset(dataloader, model):\n",
        "    correct = 0\n",
        "    total = 0\n",
        "    model.eval()\n",
        "    with torch.no_grad():\n",
        "      for inputs, labels in dataloader:\n",
        "        inputs, labels = inputs.to(device), labels.to(device)\n",
        "        outputs = model(inputs)\n",
        "        predicted = torch.argmax(outputs, dim=2)\n",
        "        true_labels = torch.argmax(labels, dim=2)\n",
        "        for i in range(predicted.shape[0]):\n",
        "          if predicted[i][0] == true_labels[i][0] and predicted[i][1] == true_labels[i][1]:\n",
        "            correct += 1\n",
        "          total += 1\n",
        "    return correct / total if total > 0 else 0\n"
      ]
    },
    {
      "cell_type": "code",
      "execution_count": null,
      "metadata": {
        "id": "6hqWTyzQgnn_"
      },
      "outputs": [],
      "source": [
        "loss_arr = []\n",
        "loss_epoch_arr = []\n",
        "max_epochs = 10\n",
        "val_accuracy_arr = []\n",
        "\n",
        "# Move model to device before training\n",
        "dnet.to(device)\n",
        "\n",
        "for epoch in tqdm(range(max_epochs), unit='epochs'):\n",
        "    dnet.train()  # Set model to training mode\n",
        "    for i, data in enumerate(train_loader, 0):\n",
        "        inputs, labels = data\n",
        "        inputs, labels = inputs.to(device), labels.to(device)\n",
        "        opt.zero_grad()\n",
        "\n",
        "        outputs = dnet(inputs)\n",
        "\n",
        "        loss1 = loss_fn(outputs[:, 0, :], torch.argmax(labels[:, 0, :], dim=1)) # Loss for vowel\n",
        "        loss2 = loss_fn(outputs[:, 1, :], torch.argmax(labels[:, 1, :], dim=1)) # Loss for consonant\n",
        "        loss = loss1 + loss2\n",
        "\n",
        "        loss.backward()\n",
        "        opt.step()\n",
        "\n",
        "        loss_arr.append(loss.item())\n",
        "    dnet.eval()\n",
        "    val_acc = evaluate_full_dataset(validation_loader, dnet)\n",
        "    val_accuracy_arr.append(val_acc)\n",
        "    loss_epoch_arr.append(loss.item())\n",
        "    print(f'Epoch {epoch+1}, Training Loss: {loss.item():.4f}, Validation Accuracy: {val_acc:.4f}')\n"
      ]
    },
    {
      "cell_type": "code",
      "execution_count": null,
      "metadata": {
        "id": "bEdYxjnmihv2"
      },
      "outputs": [],
      "source": [
        "# def evaluation(net, images, labels):\n",
        "#   # Move inputs to the device the model is on\n",
        "#   images, labels = images.to(device), labels.to(device)\n",
        "#   out = dnet(images)\n",
        "#   predicted = torch.argmax(out, dim=2)\n",
        "#   true_labels = torch.argmax(labels, dim=2)\n",
        "\n",
        "#   correct = 0\n",
        "#   total = 0\n",
        "\n",
        "#   predicted, true_labels = predicted.to(device), true_labels.to(device)\n",
        "#   # Iterate through each sample in the batch\n",
        "#   for i in range(predicted.shape[0]):\n",
        "#     # Check if both vowel and consonant predictions are correct\n",
        "#     if true_labels[i][0] == predicted[i][0] and true_labels[i][1] == predicted[i][1]:\n",
        "#       correct += 1\n",
        "#     total += 1\n",
        "#   return correct/total"
      ]
    },
    {
      "cell_type": "code",
      "execution_count": null,
      "metadata": {
        "colab": {
          "base_uri": "https://localhost:8080/"
        },
        "id": "qASE451xribI",
        "outputId": "d78c4c11-7013-4eae-89d5-25b34d2b6a3e"
      },
      "outputs": [],
      "source": [
        "train_accuracy = evaluate_full_dataset(train_loader, dnet)\n",
        "print(train_accuracy)\n",
        "\n",
        "val_accuracy = evaluate_full_dataset(validation_loader, dnet)\n",
        "print(val_accuracy)"
      ]
    },
    {
      "cell_type": "markdown",
      "metadata": {
        "id": "2FOkwqG7lhl6"
      },
      "source": [
        "# Using a pre Trained model"
      ]
    },
    {
      "cell_type": "code",
      "execution_count": null,
      "metadata": {
        "id": "ca2S4CMZlj5f"
      },
      "outputs": [],
      "source": [
        "from torchvision import models"
      ]
    },
    {
      "cell_type": "code",
      "execution_count": null,
      "metadata": {
        "colab": {
          "base_uri": "https://localhost:8080/"
        },
        "id": "yaGmfDB8mUy3",
        "outputId": "dc5cac84-d859-4bd1-c897-7c58f0f8f859"
      },
      "outputs": [],
      "source": [
        "resnet = models.resnet18(pretrained = True)"
      ]
    },
    {
      "cell_type": "code",
      "execution_count": null,
      "metadata": {
        "id": "w3pfwf5mmb1Q"
      },
      "outputs": [],
      "source": [
        "print(resnet)"
      ]
    },
    {
      "cell_type": "code",
      "execution_count": null,
      "metadata": {},
      "outputs": [],
      "source": [
        "from torch.optim.lr_scheduler import ReduceLROnPlateau, StepLR"
      ]
    },
    {
      "cell_type": "code",
      "execution_count": null,
      "metadata": {
        "colab": {
          "base_uri": "https://localhost:8080/"
        },
        "id": "fca389e9",
        "outputId": "00a7071c-88d9-465c-c6a0-9b6c5e942fde"
      },
      "outputs": [],
      "source": [
        "class ResNetWithTwoHeads(nn.Module):\n",
        "    def __init__(self, resnet_base, num_vowel_classes=10, num_consonant_classes=10):\n",
        "        super().__init__()\n",
        "        self.resnet_base = resnet_base\n",
        "        # self.vowel_fc = vowel_fc_layer\n",
        "        # in_features = resnet_base.fc.in_features\n",
        "\n",
        "\n",
        "        if hasattr(resnet_base.fc, 'in_features'):\n",
        "            in_features = resnet_base.fc.in_features\n",
        "        else:\n",
        "            # If FC layer is already replaced, use standard ResNet dimensions\n",
        "            in_features = 512\n",
        "        # self.consonant_fc = consonant_fc_layer\n",
        "        self.resnet_base.fc = nn.Identity()\n",
        "        self.dropout = nn.Dropout(0.5)\n",
        "\n",
        "        self.vowel_fc = nn.Sequential(\n",
        "            nn.Linear(in_features, 256),\n",
        "            nn.ReLU(),\n",
        "            nn.Dropout(0.5),\n",
        "            nn.Linear(256, num_vowel_classes)\n",
        "        )\n",
        "\n",
        "        self.consonant_fc = nn.Sequential(\n",
        "            nn.Linear(in_features, 256),\n",
        "            nn.ReLU(),\n",
        "            nn.Dropout(0.5),\n",
        "            nn.Linear(256, num_consonant_classes)\n",
        "        )\n",
        "\n",
        "\n",
        "    \n",
        "\n",
        "    def forward(self, x):\n",
        "        features = self.resnet_base(x)\n",
        "        # Ensure features are flattened before passing to the linear layers\n",
        "        features = features.view(features.size(0), -1)\n",
        "        features = self.dropout(features)\n",
        "        vowel_output = self.vowel_fc(features)\n",
        "        consonant_output = self.consonant_fc(features)\n",
        "        output = torch.stack([vowel_output, consonant_output], dim=1)\n",
        "        return output\n",
        "\n",
        "\n",
        "pretrained_model = ResNetWithTwoHeads(resnet)\n",
        "\n",
        "pretrained_model.to(device)\n"
      ]
    },
    {
      "cell_type": "code",
      "execution_count": null,
      "metadata": {},
      "outputs": [],
      "source": [
        "def selective_unfreeze(model, num_layers_unfreeze = 2):\n",
        "    for param in model.resnet_base.parameters():\n",
        "        param.requires_grad = False\n",
        "    \n",
        "\n",
        "    layers = list(model.resnet_base.children())\n",
        "    for layer in layers[-num_layers_unfreeze:]:\n",
        "        for param in layer.parameters():\n",
        "            param.requires_grad = True\n",
        "\n",
        "    for param in model.vowel_fc.parameters():\n",
        "        param.requires_grad = True\n",
        "    for param in model.consonant_fc.parameters():\n",
        "        param.requires_grad = True"
      ]
    },
    {
      "cell_type": "code",
      "execution_count": null,
      "metadata": {},
      "outputs": [],
      "source": [
        "def evaluate_full_dataset(dataloader, model, device):\n",
        "    correct = 0\n",
        "    total = 0\n",
        "    model.eval()\n",
        "    with torch.no_grad():\n",
        "      for inputs, labels in dataloader:\n",
        "        inputs, labels = inputs.to(device), labels.to(device)\n",
        "        outputs = model(inputs)\n",
        "        predicted = torch.argmax(outputs, dim=2)\n",
        "        true_labels = torch.argmax(labels, dim=2)\n",
        "        for i in range(predicted.shape[0]):\n",
        "          if predicted[i][0] == true_labels[i][0] and predicted[i][1] == true_labels[i][1]:\n",
        "            correct += 1\n",
        "          total += 1\n",
        "    return correct / total if total > 0 else 0\n"
      ]
    },
    {
      "cell_type": "code",
      "execution_count": null,
      "metadata": {},
      "outputs": [],
      "source": [
        "def train_model_new(model, train_loader, validation_loader, device, max_epochs=50):\n",
        "    loss_fn = nn.CrossEntropyLoss()\n",
        "\n",
        "\n",
        "    for param in model.parameters():\n",
        "        param.requires_grad = True\n",
        "\n",
        "    \n",
        "    # trainable_params = list(model.vowel_fc.parameters()) + list(model.consonant_fc.parameters())\n",
        "    # optim1 = optim.Adam(trainable_params, lr=0.001, weight_decay=1e-4)\n",
        "    # scheduler1 = ReduceLROnPlateau(optim1, mode='max', verbose=True, patience=5)\n",
        "\n",
        "\n",
        "    # best_val_acc = 0\n",
        "    # patience_counter = 0\n",
        "    # early_stopping_patience = 12\n",
        "\n",
        "\n",
        "    # # Training the FC models.\n",
        "    # for epoch in tqdm(range(max_epochs), unit=\"epochs\"):\n",
        "    #     model.train()\n",
        "    #     total_loss = 0\n",
        "    #     num_batches = 0\n",
        "\n",
        "    #     for inputs, labels in train_loader:\n",
        "    #         inputs, labels = inputs.to(device), labels.to(device)\n",
        "    #         outputs = model(inputs)\n",
        "    #         optim1.zero_grad()\n",
        "\n",
        "    #         loss1 = loss_fn(outputs[:, 0, :], torch.argmax(labels[:, 0, :], dim=1))\n",
        "    #         loss2 = loss_fn(outputs[:, 1, :], torch.argmax(labels[:, 1, :], dim=1))\n",
        "\n",
        "    #         loss = loss1+loss2\n",
        "\n",
        "    #         loss.backward()\n",
        "    #         optim1.step()\n",
        "\n",
        "    #         total_loss += loss.item()\n",
        "    #         num_batches += 1\n",
        "        \n",
        "    #     val_acc = evaluate_full_dataset(validation_loader, model, device)\n",
        "    #     avg_loss = total_loss/num_batches\n",
        "\n",
        "    #     print(f\"Epoch: {epoch}, Training Loss: {avg_loss:.4f}, Validation Accuracy: {val_acc:.4f}\")\n",
        "    #     scheduler1.step(val_acc)\n",
        "    #     if val_acc > best_val_acc:\n",
        "    #         best_val_acc = val_acc\n",
        "    #         patience_counter = 0\n",
        "    #         torch.save(model.state_dict(), 'best_model_stage1.pth')\n",
        "    #     else:\n",
        "    #         patience_counter+=1    \n",
        "\n",
        "    #         if patience_counter >= early_stopping_patience:\n",
        "    #             print(f\"early stopping at epoch {epoch}\")\n",
        "    #             break\n",
        "    \n",
        "    # # Fine tune the entire model.\n",
        "    # model.load_state_dict(torch.load('best_model_stage1.pth'))\n",
        "    # selective_unfreeze(model, num_layers_unfreeze= 5)    \n",
        "    \n",
        "    # optim2 = optim.Adam(model.parameters(), lr=0.0005, weight_decay=1e-5)\n",
        "    # scheduler2 = ReduceLROnPlateau(optim2, mode='max', factor=0.5, patience=8, verbose=True)\n",
        "\n",
        "    # Separate backbone and head parameters\n",
        "    backbone_params = []\n",
        "    head_params = []\n",
        "\n",
        "    for name, param in model.named_parameters():\n",
        "        if 'vowel_fc' in name or 'consonant_fc' in name:\n",
        "            head_params.append(param)\n",
        "        else:\n",
        "            backbone_params.append(param)\n",
        "\n",
        "    optimizer = optim.Adam([\n",
        "        {'params': backbone_params, 'lr': 5e-5, 'weight_decay': 1e-4},    # Lower LR for pre-trained features\n",
        "        {'params': head_params, 'lr': 2e-4, 'weight_decay': 1e-4}         # Higher LR for classification heads\n",
        "    ])\n",
        "    scheduler = ReduceLROnPlateau(optimizer, mode='max', factor=0.7, patience=4, verbose=True)\n",
        "\n",
        "    \n",
        "    best_val_acc = 0\n",
        "    patience_counter = 0\n",
        "    early_stopping_patience = 5\n",
        "    \n",
        "    for epoch in tqdm(range(50), unit=\"epochs\"):  # Stage 2: 50 epochs\n",
        "        model.train()\n",
        "        total_loss = 0\n",
        "        num_batches = 0\n",
        "        \n",
        "        for inputs, labels in train_loader:\n",
        "            inputs, labels = inputs.to(device), labels.to(device)\n",
        "            \n",
        "            optimizer.zero_grad()\n",
        "            outputs = model(inputs)\n",
        "            \n",
        "            loss1 = loss_fn(outputs[:, 0, :], torch.argmax(labels[:, 0, :], dim=1))\n",
        "            loss2 = loss_fn(outputs[:, 1, :], torch.argmax(labels[:, 1, :], dim=1))\n",
        "            loss = loss1 + loss2\n",
        "            \n",
        "            loss.backward()\n",
        "            torch.nn.utils.clip_grad_norm_(model.parameters(), max_norm=1.0)\n",
        "            optimizer.step()\n",
        "            \n",
        "            total_loss += loss.item()\n",
        "            num_batches += 1\n",
        "        \n",
        "        # Validation\n",
        "        val_acc = evaluate_full_dataset(validation_loader, model, device)\n",
        "        avg_loss = total_loss / num_batches\n",
        "        \n",
        "        print(f'Stage 2 - Epoch {epoch+1}: Loss: {avg_loss:.4f}, Val Acc: {val_acc:.4f}')\n",
        "        \n",
        "        scheduler.step(val_acc)\n",
        "        \n",
        "        if val_acc > best_val_acc:\n",
        "            best_val_acc = val_acc\n",
        "            patience_counter = 0\n",
        "            torch.save(model.state_dict(), 'best_model_final.pth')\n",
        "        else:\n",
        "            patience_counter += 1\n",
        "            if patience_counter >= early_stopping_patience:\n",
        "                print(f\"Early stopping at epoch {epoch+1}\")\n",
        "                break   \n",
        "\n",
        "    model.load_state_dict(torch.load('best_model_final.pth'))\n",
        "    return model\n",
        "    \n"
      ]
    },
    {
      "cell_type": "code",
      "execution_count": null,
      "metadata": {},
      "outputs": [],
      "source": [
        "model = ResNetWithTwoHeads(resnet, num_vowel_classes=10, num_consonant_classes=10)\n",
        "model.to(device)"
      ]
    },
    {
      "cell_type": "code",
      "execution_count": null,
      "metadata": {},
      "outputs": [],
      "source": [
        "trained_model = train_model_new(model, train_loader, validation_loader, device, 100)"
      ]
    },
    {
      "cell_type": "code",
      "execution_count": null,
      "metadata": {},
      "outputs": [],
      "source": [
        "final_val_acc = evaluate_full_dataset(validation_loader, trained_model, device)\n",
        "print(f\"Final Validation Accuracy: {final_val_acc:.4f}\")\n",
        "\n",
        "final_train_acc = evaluate_full_dataset(train_loader, trained_model, device)\n",
        "print(f\"Final Training Accuracy: {final_train_acc:.4f}\")"
      ]
    },
    {
      "cell_type": "code",
      "execution_count": null,
      "metadata": {
        "id": "71921b77"
      },
      "outputs": [],
      "source": [
        "import torch.optim as optim\n",
        "loss_fn = nn.CrossEntropyLoss()\n",
        "# Create a new optimizer for the pretrained model, training only the new layers\n",
        "# Get parameters of the new layers (vowel_fc and consonant_fc)\n",
        "new_layers_params = list(pretrained_model.vowel_fc.parameters()) + list(pretrained_model.consonant_fc.parameters())\n",
        "\n",
        "opt_pretrained = optim.Adam(new_layers_params, lr=0.0005, weight_decay=1e-5) # Using the same learning rate and weight decay as before"
      ]
    },
    {
      "cell_type": "code",
      "execution_count": null,
      "metadata": {
        "colab": {
          "base_uri": "https://localhost:8080/",
          "height": 219
        },
        "id": "ba82d154",
        "outputId": "7b4a6200-ddd0-49b2-a01e-17208f382703"
      },
      "outputs": [],
      "source": [
        "loss_arr_pretrained = []\n",
        "loss_epoch_arr_pretrained = []\n",
        "val_accuracy_arr_pretrained = []  # Removed validation accuracies\n",
        "max_epochs = 500\n",
        "\n",
        "# Move model to device before training\n",
        "pretrained_model.to(device)\n",
        "\n",
        "for epoch in tqdm(range(max_epochs), unit='epochs'):\n",
        "    pretrained_model.train()  # Set model to training mode\n",
        "    for i, data in enumerate(train_loader, 0):\n",
        "        inputs, labels = data\n",
        "        inputs, labels = inputs.to(device), labels.to(device)\n",
        "        opt_pretrained.zero_grad()\n",
        "\n",
        "        # Use the pretrained model\n",
        "        outputs = pretrained_model(inputs)\n",
        "\n",
        "        loss1 = loss_fn(outputs[:, 0, :], torch.argmax(labels[:, 0, :], dim=1)) # Loss for vowel\n",
        "        loss2 = loss_fn(outputs[:, 1, :], torch.argmax(labels[:, 1, :], dim=1)) # Loss for consonant\n",
        "        loss = loss1 + loss2\n",
        "\n",
        "        loss.backward()\n",
        "        opt_pretrained.step()\n",
        "\n",
        "        loss_arr_pretrained.append(loss.item())\n",
        "    pretrained_model.eval()\n",
        "    validation_acc = evaluate_full_dataset(validation_loader, pretrained_model)\n",
        "    val_accuracy_arr_pretrained.append(validation_acc)\n",
        "    loss_epoch_arr_pretrained.append(loss.item())\n",
        "    print(f'Epoch {epoch+1}, Training Loss: {loss.item():.4f}, Validation Accuracy: {validation_acc:.4f}')\n",
        "\n",
        "    # Removed evaluation on validation set after each epoch\n",
        "    # pretrained_model.eval()  # Set model to evaluation mode\n",
        "    # correct_val = 0\n",
        "    # total_val = 0\n",
        "    # with torch.no_grad():  # No gradient calculation during evaluation\n",
        "    #     for inputs_val, labels_val in validation_loader:\n",
        "    #         inputs_val, labels_val = inputs_val.to(device), labels_val.to(device)\n",
        "    #         # Use the pretrained model for evaluation\n",
        "    #         outputs_val = pretrained_model(inputs_val)\n",
        "    #         predicted_val = torch.argmax(outputs_val, dim=2)\n",
        "    #         true_labels_val = torch.argmax(labels_val, dim=2)\n",
        "\n",
        "    #         for j in range(predicted_val.shape[0]):\n",
        "    #             if true_labels_val[j][0] == predicted_val[j][0] and true_labels_val[j][1] == predicted_val[j][1]:\n",
        "    #                 correct_val += 1\n",
        "    #             total_val += 1\n",
        "\n",
        "    # accuracy_val = correct_val / total_val if total_val > 0 else 0\n",
        "    # val_accuracy_arr_pretrained.append(accuracy_val)\n",
        "    # print(f'Epoch {epoch+1}, Validation Accuracy: {accuracy_val:.4f}')"
      ]
    },
    {
      "cell_type": "code",
      "execution_count": null,
      "metadata": {
        "colab": {
          "base_uri": "https://localhost:8080/",
          "height": 110
        },
        "id": "pHWWNObmALx3",
        "outputId": "3ebe42b9-194b-41bd-e4a6-7e10b46c25d8"
      },
      "outputs": [],
      "source": [
        "train_accuracy = evaluate_full_dataset(train_loader, pretrained_model)\n",
        "print(train_accuracy)\n",
        "\n",
        "val_accuracy = evaluate_full_dataset(validation_loader, pretrained_model)\n",
        "print(val_accuracy)"
      ]
    }
  ],
  "metadata": {
    "accelerator": "GPU",
    "colab": {
      "gpuType": "T4",
      "provenance": []
    },
    "kernelspec": {
      "display_name": "pip-env",
      "language": "python",
      "name": "python3"
    },
    "language_info": {
      "codemirror_mode": {
        "name": "ipython",
        "version": 3
      },
      "file_extension": ".py",
      "mimetype": "text/x-python",
      "name": "python",
      "nbconvert_exporter": "python",
      "pygments_lexer": "ipython3",
      "version": "3.12.9"
    },
    "widgets": {
      "application/vnd.jupyter.widget-state+json": {
        "040ed61128324e049ba57639aba581f5": {
          "model_module": "@jupyter-widgets/base",
          "model_module_version": "1.2.0",
          "model_name": "LayoutModel",
          "state": {
            "_model_module": "@jupyter-widgets/base",
            "_model_module_version": "1.2.0",
            "_model_name": "LayoutModel",
            "_view_count": null,
            "_view_module": "@jupyter-widgets/base",
            "_view_module_version": "1.2.0",
            "_view_name": "LayoutView",
            "align_content": null,
            "align_items": null,
            "align_self": null,
            "border": null,
            "bottom": null,
            "display": null,
            "flex": null,
            "flex_flow": null,
            "grid_area": null,
            "grid_auto_columns": null,
            "grid_auto_flow": null,
            "grid_auto_rows": null,
            "grid_column": null,
            "grid_gap": null,
            "grid_row": null,
            "grid_template_areas": null,
            "grid_template_columns": null,
            "grid_template_rows": null,
            "height": null,
            "justify_content": null,
            "justify_items": null,
            "left": null,
            "margin": null,
            "max_height": null,
            "max_width": null,
            "min_height": null,
            "min_width": null,
            "object_fit": null,
            "object_position": null,
            "order": null,
            "overflow": null,
            "overflow_x": null,
            "overflow_y": null,
            "padding": null,
            "right": null,
            "top": null,
            "visibility": null,
            "width": null
          }
        },
        "108da263d9c2463bb4ecccb16b36bf60": {
          "model_module": "@jupyter-widgets/controls",
          "model_module_version": "1.5.0",
          "model_name": "ButtonModel",
          "state": {
            "_dom_classes": [],
            "_model_module": "@jupyter-widgets/controls",
            "_model_module_version": "1.5.0",
            "_model_name": "ButtonModel",
            "_view_count": null,
            "_view_module": "@jupyter-widgets/controls",
            "_view_module_version": "1.5.0",
            "_view_name": "ButtonView",
            "button_style": "",
            "description": "Login",
            "disabled": false,
            "icon": "",
            "layout": "IPY_MODEL_3812fe307f044f3bb323a9a994e60b69",
            "style": "IPY_MODEL_69951519a0024546a090e7d40df10075",
            "tooltip": ""
          }
        },
        "1a167127911a4e3c87f2bb2c3caee006": {
          "model_module": "@jupyter-widgets/controls",
          "model_module_version": "1.5.0",
          "model_name": "DescriptionStyleModel",
          "state": {
            "_model_module": "@jupyter-widgets/controls",
            "_model_module_version": "1.5.0",
            "_model_name": "DescriptionStyleModel",
            "_view_count": null,
            "_view_module": "@jupyter-widgets/base",
            "_view_module_version": "1.2.0",
            "_view_name": "StyleView",
            "description_width": ""
          }
        },
        "1b0982d78f754cd6a1aabe8e3e3fcd94": {
          "model_module": "@jupyter-widgets/controls",
          "model_module_version": "1.5.0",
          "model_name": "VBoxModel",
          "state": {
            "_dom_classes": [],
            "_model_module": "@jupyter-widgets/controls",
            "_model_module_version": "1.5.0",
            "_model_name": "VBoxModel",
            "_view_count": null,
            "_view_module": "@jupyter-widgets/controls",
            "_view_module_version": "1.5.0",
            "_view_name": "VBoxView",
            "box_style": "",
            "children": [
              "IPY_MODEL_62c33690de2446218d0c26b6bb0bb308"
            ],
            "layout": "IPY_MODEL_91c83482ec964b1ca6f5df7c806016a1"
          }
        },
        "1ca64a03e9e345dba22ea165b7e3f0bb": {
          "model_module": "@jupyter-widgets/controls",
          "model_module_version": "1.5.0",
          "model_name": "DescriptionStyleModel",
          "state": {
            "_model_module": "@jupyter-widgets/controls",
            "_model_module_version": "1.5.0",
            "_model_name": "DescriptionStyleModel",
            "_view_count": null,
            "_view_module": "@jupyter-widgets/base",
            "_view_module_version": "1.2.0",
            "_view_name": "StyleView",
            "description_width": ""
          }
        },
        "23bb21f98dda4bf3ab67b02a352c4411": {
          "model_module": "@jupyter-widgets/controls",
          "model_module_version": "1.5.0",
          "model_name": "LabelModel",
          "state": {
            "_dom_classes": [],
            "_model_module": "@jupyter-widgets/controls",
            "_model_module_version": "1.5.0",
            "_model_name": "LabelModel",
            "_view_count": null,
            "_view_module": "@jupyter-widgets/controls",
            "_view_module_version": "1.5.0",
            "_view_name": "LabelView",
            "description": "",
            "description_tooltip": null,
            "layout": "IPY_MODEL_cfc08d8bcc164dccb13b9f4e144c0365",
            "placeholder": "​",
            "style": "IPY_MODEL_3a94ecda8f6e477a9c8fdd5180aff83d",
            "value": "Connecting..."
          }
        },
        "27b15de9c9274aafbdb7703fcb8c2ab0": {
          "model_module": "@jupyter-widgets/controls",
          "model_module_version": "1.5.0",
          "model_name": "DescriptionStyleModel",
          "state": {
            "_model_module": "@jupyter-widgets/controls",
            "_model_module_version": "1.5.0",
            "_model_name": "DescriptionStyleModel",
            "_view_count": null,
            "_view_module": "@jupyter-widgets/base",
            "_view_module_version": "1.2.0",
            "_view_name": "StyleView",
            "description_width": ""
          }
        },
        "293c7b66af5c4f4ab859dba9e99b31f0": {
          "model_module": "@jupyter-widgets/base",
          "model_module_version": "1.2.0",
          "model_name": "LayoutModel",
          "state": {
            "_model_module": "@jupyter-widgets/base",
            "_model_module_version": "1.2.0",
            "_model_name": "LayoutModel",
            "_view_count": null,
            "_view_module": "@jupyter-widgets/base",
            "_view_module_version": "1.2.0",
            "_view_name": "LayoutView",
            "align_content": null,
            "align_items": null,
            "align_self": null,
            "border": null,
            "bottom": null,
            "display": null,
            "flex": null,
            "flex_flow": null,
            "grid_area": null,
            "grid_auto_columns": null,
            "grid_auto_flow": null,
            "grid_auto_rows": null,
            "grid_column": null,
            "grid_gap": null,
            "grid_row": null,
            "grid_template_areas": null,
            "grid_template_columns": null,
            "grid_template_rows": null,
            "height": null,
            "justify_content": null,
            "justify_items": null,
            "left": null,
            "margin": null,
            "max_height": null,
            "max_width": null,
            "min_height": null,
            "min_width": null,
            "object_fit": null,
            "object_position": null,
            "order": null,
            "overflow": null,
            "overflow_x": null,
            "overflow_y": null,
            "padding": null,
            "right": null,
            "top": null,
            "visibility": null,
            "width": null
          }
        },
        "34779bfd1f0c429daa941a1c7738abc0": {
          "model_module": "@jupyter-widgets/controls",
          "model_module_version": "1.5.0",
          "model_name": "HTMLModel",
          "state": {
            "_dom_classes": [],
            "_model_module": "@jupyter-widgets/controls",
            "_model_module_version": "1.5.0",
            "_model_name": "HTMLModel",
            "_view_count": null,
            "_view_module": "@jupyter-widgets/controls",
            "_view_module_version": "1.5.0",
            "_view_name": "HTMLView",
            "description": "",
            "description_tooltip": null,
            "layout": "IPY_MODEL_040ed61128324e049ba57639aba581f5",
            "placeholder": "​",
            "style": "IPY_MODEL_1a167127911a4e3c87f2bb2c3caee006",
            "value": "<center> <img\nsrc=https://www.kaggle.com/static/images/site-logo.png\nalt='Kaggle'> <br> Create an API token from <a\nhref=\"https://www.kaggle.com/settings/account\" target=\"_blank\">your Kaggle\nsettings page</a> and paste it below along with your Kaggle username. <br> </center>"
          }
        },
        "3812fe307f044f3bb323a9a994e60b69": {
          "model_module": "@jupyter-widgets/base",
          "model_module_version": "1.2.0",
          "model_name": "LayoutModel",
          "state": {
            "_model_module": "@jupyter-widgets/base",
            "_model_module_version": "1.2.0",
            "_model_name": "LayoutModel",
            "_view_count": null,
            "_view_module": "@jupyter-widgets/base",
            "_view_module_version": "1.2.0",
            "_view_name": "LayoutView",
            "align_content": null,
            "align_items": null,
            "align_self": null,
            "border": null,
            "bottom": null,
            "display": null,
            "flex": null,
            "flex_flow": null,
            "grid_area": null,
            "grid_auto_columns": null,
            "grid_auto_flow": null,
            "grid_auto_rows": null,
            "grid_column": null,
            "grid_gap": null,
            "grid_row": null,
            "grid_template_areas": null,
            "grid_template_columns": null,
            "grid_template_rows": null,
            "height": null,
            "justify_content": null,
            "justify_items": null,
            "left": null,
            "margin": null,
            "max_height": null,
            "max_width": null,
            "min_height": null,
            "min_width": null,
            "object_fit": null,
            "object_position": null,
            "order": null,
            "overflow": null,
            "overflow_x": null,
            "overflow_y": null,
            "padding": null,
            "right": null,
            "top": null,
            "visibility": null,
            "width": null
          }
        },
        "3a94ecda8f6e477a9c8fdd5180aff83d": {
          "model_module": "@jupyter-widgets/controls",
          "model_module_version": "1.5.0",
          "model_name": "DescriptionStyleModel",
          "state": {
            "_model_module": "@jupyter-widgets/controls",
            "_model_module_version": "1.5.0",
            "_model_name": "DescriptionStyleModel",
            "_view_count": null,
            "_view_module": "@jupyter-widgets/base",
            "_view_module_version": "1.2.0",
            "_view_name": "StyleView",
            "description_width": ""
          }
        },
        "62c33690de2446218d0c26b6bb0bb308": {
          "model_module": "@jupyter-widgets/controls",
          "model_module_version": "1.5.0",
          "model_name": "LabelModel",
          "state": {
            "_dom_classes": [],
            "_model_module": "@jupyter-widgets/controls",
            "_model_module_version": "1.5.0",
            "_model_name": "LabelModel",
            "_view_count": null,
            "_view_module": "@jupyter-widgets/controls",
            "_view_module_version": "1.5.0",
            "_view_name": "LabelView",
            "description": "",
            "description_tooltip": null,
            "layout": "IPY_MODEL_293c7b66af5c4f4ab859dba9e99b31f0",
            "placeholder": "​",
            "style": "IPY_MODEL_f0a2d11838f8481f916051dd0232e246",
            "value": "Kaggle credentials successfully validated."
          }
        },
        "67490ea218cf477d81b76baa5aaf4e2e": {
          "model_module": "@jupyter-widgets/controls",
          "model_module_version": "1.5.0",
          "model_name": "TextModel",
          "state": {
            "_dom_classes": [],
            "_model_module": "@jupyter-widgets/controls",
            "_model_module_version": "1.5.0",
            "_model_name": "TextModel",
            "_view_count": null,
            "_view_module": "@jupyter-widgets/controls",
            "_view_module_version": "1.5.0",
            "_view_name": "TextView",
            "continuous_update": true,
            "description": "Username:",
            "description_tooltip": null,
            "disabled": false,
            "layout": "IPY_MODEL_7ee2c1ea7a1a42e291bc4e975473dcbc",
            "placeholder": "​",
            "style": "IPY_MODEL_d94a6a300b694ae0983243670c623777",
            "value": "sampadramkumar"
          }
        },
        "69951519a0024546a090e7d40df10075": {
          "model_module": "@jupyter-widgets/controls",
          "model_module_version": "1.5.0",
          "model_name": "ButtonStyleModel",
          "state": {
            "_model_module": "@jupyter-widgets/controls",
            "_model_module_version": "1.5.0",
            "_model_name": "ButtonStyleModel",
            "_view_count": null,
            "_view_module": "@jupyter-widgets/base",
            "_view_module_version": "1.2.0",
            "_view_name": "StyleView",
            "button_color": null,
            "font_weight": ""
          }
        },
        "7ee2c1ea7a1a42e291bc4e975473dcbc": {
          "model_module": "@jupyter-widgets/base",
          "model_module_version": "1.2.0",
          "model_name": "LayoutModel",
          "state": {
            "_model_module": "@jupyter-widgets/base",
            "_model_module_version": "1.2.0",
            "_model_name": "LayoutModel",
            "_view_count": null,
            "_view_module": "@jupyter-widgets/base",
            "_view_module_version": "1.2.0",
            "_view_name": "LayoutView",
            "align_content": null,
            "align_items": null,
            "align_self": null,
            "border": null,
            "bottom": null,
            "display": null,
            "flex": null,
            "flex_flow": null,
            "grid_area": null,
            "grid_auto_columns": null,
            "grid_auto_flow": null,
            "grid_auto_rows": null,
            "grid_column": null,
            "grid_gap": null,
            "grid_row": null,
            "grid_template_areas": null,
            "grid_template_columns": null,
            "grid_template_rows": null,
            "height": null,
            "justify_content": null,
            "justify_items": null,
            "left": null,
            "margin": null,
            "max_height": null,
            "max_width": null,
            "min_height": null,
            "min_width": null,
            "object_fit": null,
            "object_position": null,
            "order": null,
            "overflow": null,
            "overflow_x": null,
            "overflow_y": null,
            "padding": null,
            "right": null,
            "top": null,
            "visibility": null,
            "width": null
          }
        },
        "7fceaf88f41a47bd9868600cdeec3ea3": {
          "model_module": "@jupyter-widgets/controls",
          "model_module_version": "1.5.0",
          "model_name": "PasswordModel",
          "state": {
            "_dom_classes": [],
            "_model_module": "@jupyter-widgets/controls",
            "_model_module_version": "1.5.0",
            "_model_name": "PasswordModel",
            "_view_count": null,
            "_view_module": "@jupyter-widgets/controls",
            "_view_module_version": "1.5.0",
            "_view_name": "PasswordView",
            "continuous_update": true,
            "description": "Token:",
            "description_tooltip": null,
            "disabled": false,
            "layout": "IPY_MODEL_9f36f61df1024450a5634ab8daab193b",
            "placeholder": "​",
            "style": "IPY_MODEL_1ca64a03e9e345dba22ea165b7e3f0bb",
            "value": ""
          }
        },
        "8c7f1585ca594d7c9f0ca1fedfc46d62": {
          "model_module": "@jupyter-widgets/base",
          "model_module_version": "1.2.0",
          "model_name": "LayoutModel",
          "state": {
            "_model_module": "@jupyter-widgets/base",
            "_model_module_version": "1.2.0",
            "_model_name": "LayoutModel",
            "_view_count": null,
            "_view_module": "@jupyter-widgets/base",
            "_view_module_version": "1.2.0",
            "_view_name": "LayoutView",
            "align_content": null,
            "align_items": null,
            "align_self": null,
            "border": null,
            "bottom": null,
            "display": null,
            "flex": null,
            "flex_flow": null,
            "grid_area": null,
            "grid_auto_columns": null,
            "grid_auto_flow": null,
            "grid_auto_rows": null,
            "grid_column": null,
            "grid_gap": null,
            "grid_row": null,
            "grid_template_areas": null,
            "grid_template_columns": null,
            "grid_template_rows": null,
            "height": null,
            "justify_content": null,
            "justify_items": null,
            "left": null,
            "margin": null,
            "max_height": null,
            "max_width": null,
            "min_height": null,
            "min_width": null,
            "object_fit": null,
            "object_position": null,
            "order": null,
            "overflow": null,
            "overflow_x": null,
            "overflow_y": null,
            "padding": null,
            "right": null,
            "top": null,
            "visibility": null,
            "width": null
          }
        },
        "91c83482ec964b1ca6f5df7c806016a1": {
          "model_module": "@jupyter-widgets/base",
          "model_module_version": "1.2.0",
          "model_name": "LayoutModel",
          "state": {
            "_model_module": "@jupyter-widgets/base",
            "_model_module_version": "1.2.0",
            "_model_name": "LayoutModel",
            "_view_count": null,
            "_view_module": "@jupyter-widgets/base",
            "_view_module_version": "1.2.0",
            "_view_name": "LayoutView",
            "align_content": null,
            "align_items": "center",
            "align_self": null,
            "border": null,
            "bottom": null,
            "display": "flex",
            "flex": null,
            "flex_flow": "column",
            "grid_area": null,
            "grid_auto_columns": null,
            "grid_auto_flow": null,
            "grid_auto_rows": null,
            "grid_column": null,
            "grid_gap": null,
            "grid_row": null,
            "grid_template_areas": null,
            "grid_template_columns": null,
            "grid_template_rows": null,
            "height": null,
            "justify_content": null,
            "justify_items": null,
            "left": null,
            "margin": null,
            "max_height": null,
            "max_width": null,
            "min_height": null,
            "min_width": null,
            "object_fit": null,
            "object_position": null,
            "order": null,
            "overflow": null,
            "overflow_x": null,
            "overflow_y": null,
            "padding": null,
            "right": null,
            "top": null,
            "visibility": null,
            "width": "50%"
          }
        },
        "9f36f61df1024450a5634ab8daab193b": {
          "model_module": "@jupyter-widgets/base",
          "model_module_version": "1.2.0",
          "model_name": "LayoutModel",
          "state": {
            "_model_module": "@jupyter-widgets/base",
            "_model_module_version": "1.2.0",
            "_model_name": "LayoutModel",
            "_view_count": null,
            "_view_module": "@jupyter-widgets/base",
            "_view_module_version": "1.2.0",
            "_view_name": "LayoutView",
            "align_content": null,
            "align_items": null,
            "align_self": null,
            "border": null,
            "bottom": null,
            "display": null,
            "flex": null,
            "flex_flow": null,
            "grid_area": null,
            "grid_auto_columns": null,
            "grid_auto_flow": null,
            "grid_auto_rows": null,
            "grid_column": null,
            "grid_gap": null,
            "grid_row": null,
            "grid_template_areas": null,
            "grid_template_columns": null,
            "grid_template_rows": null,
            "height": null,
            "justify_content": null,
            "justify_items": null,
            "left": null,
            "margin": null,
            "max_height": null,
            "max_width": null,
            "min_height": null,
            "min_width": null,
            "object_fit": null,
            "object_position": null,
            "order": null,
            "overflow": null,
            "overflow_x": null,
            "overflow_y": null,
            "padding": null,
            "right": null,
            "top": null,
            "visibility": null,
            "width": null
          }
        },
        "a62da2def48c40b6a7fe03488f58383f": {
          "model_module": "@jupyter-widgets/controls",
          "model_module_version": "1.5.0",
          "model_name": "HTMLModel",
          "state": {
            "_dom_classes": [],
            "_model_module": "@jupyter-widgets/controls",
            "_model_module_version": "1.5.0",
            "_model_name": "HTMLModel",
            "_view_count": null,
            "_view_module": "@jupyter-widgets/controls",
            "_view_module_version": "1.5.0",
            "_view_name": "HTMLView",
            "description": "",
            "description_tooltip": null,
            "layout": "IPY_MODEL_8c7f1585ca594d7c9f0ca1fedfc46d62",
            "placeholder": "​",
            "style": "IPY_MODEL_27b15de9c9274aafbdb7703fcb8c2ab0",
            "value": "\n<b>Thank You</b></center>"
          }
        },
        "cfc08d8bcc164dccb13b9f4e144c0365": {
          "model_module": "@jupyter-widgets/base",
          "model_module_version": "1.2.0",
          "model_name": "LayoutModel",
          "state": {
            "_model_module": "@jupyter-widgets/base",
            "_model_module_version": "1.2.0",
            "_model_name": "LayoutModel",
            "_view_count": null,
            "_view_module": "@jupyter-widgets/base",
            "_view_module_version": "1.2.0",
            "_view_name": "LayoutView",
            "align_content": null,
            "align_items": null,
            "align_self": null,
            "border": null,
            "bottom": null,
            "display": null,
            "flex": null,
            "flex_flow": null,
            "grid_area": null,
            "grid_auto_columns": null,
            "grid_auto_flow": null,
            "grid_auto_rows": null,
            "grid_column": null,
            "grid_gap": null,
            "grid_row": null,
            "grid_template_areas": null,
            "grid_template_columns": null,
            "grid_template_rows": null,
            "height": null,
            "justify_content": null,
            "justify_items": null,
            "left": null,
            "margin": null,
            "max_height": null,
            "max_width": null,
            "min_height": null,
            "min_width": null,
            "object_fit": null,
            "object_position": null,
            "order": null,
            "overflow": null,
            "overflow_x": null,
            "overflow_y": null,
            "padding": null,
            "right": null,
            "top": null,
            "visibility": null,
            "width": null
          }
        },
        "d94a6a300b694ae0983243670c623777": {
          "model_module": "@jupyter-widgets/controls",
          "model_module_version": "1.5.0",
          "model_name": "DescriptionStyleModel",
          "state": {
            "_model_module": "@jupyter-widgets/controls",
            "_model_module_version": "1.5.0",
            "_model_name": "DescriptionStyleModel",
            "_view_count": null,
            "_view_module": "@jupyter-widgets/base",
            "_view_module_version": "1.2.0",
            "_view_name": "StyleView",
            "description_width": ""
          }
        },
        "f0a2d11838f8481f916051dd0232e246": {
          "model_module": "@jupyter-widgets/controls",
          "model_module_version": "1.5.0",
          "model_name": "DescriptionStyleModel",
          "state": {
            "_model_module": "@jupyter-widgets/controls",
            "_model_module_version": "1.5.0",
            "_model_name": "DescriptionStyleModel",
            "_view_count": null,
            "_view_module": "@jupyter-widgets/base",
            "_view_module_version": "1.2.0",
            "_view_name": "StyleView",
            "description_width": ""
          }
        }
      }
    }
  },
  "nbformat": 4,
  "nbformat_minor": 0
}
